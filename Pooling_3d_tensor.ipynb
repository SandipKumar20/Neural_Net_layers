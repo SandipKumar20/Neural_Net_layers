{
 "cells": [
  {
   "cell_type": "code",
   "execution_count": 1,
   "metadata": {},
   "outputs": [],
   "source": [
    "import numpy as np\n",
    "from numpy import ndarray"
   ]
  },
  {
   "cell_type": "code",
   "execution_count": 2,
   "metadata": {},
   "outputs": [],
   "source": [
    "# average pooling(2,2) 3d\n",
    "def Avg_Pooling_3d_2(S:ndarray)->ndarray:\n",
    "    assert len(S.shape) == 3\n",
    "    assert S.shape[1]%2 == S.shape[2]%2 == 0\n",
    "    assert  S.shape[1] == S.shape[2]\n",
    "    \n",
    "    Z = np.zeros([S.shape[0],int(S.shape[1]/2),int(S.shape[2]/2)])\n",
    "    \n",
    "    for w in range(Z.shape[0]):\n",
    "        for l in range(Z.shape[1]):\n",
    "            for u in range(Z.shape[2]):\n",
    "                Z[w,l,u] = S[w,2*l,2*u] + S[w,2*l,2*u+1] + S[w,2*l+1,2*u] + S[w,2*l+1,2*u+1]\n",
    "                \n",
    "    return Z/4"
   ]
  },
  {
   "cell_type": "code",
   "execution_count": 5,
   "metadata": {},
   "outputs": [],
   "source": [
    "S = np.random.randint(3,9,size =(3,8,8))"
   ]
  },
  {
   "cell_type": "code",
   "execution_count": 4,
   "metadata": {},
   "outputs": [
    {
     "data": {
      "text/plain": [
       "array([[[4.25, 5.5 , 5.25, 5.75],\n",
       "        [4.25, 6.  , 5.  , 5.  ],\n",
       "        [4.75, 6.5 , 4.5 , 6.25],\n",
       "        [4.  , 4.75, 7.25, 4.25]],\n",
       "\n",
       "       [[5.  , 4.25, 6.5 , 5.5 ],\n",
       "        [4.  , 6.  , 6.5 , 5.25],\n",
       "        [6.  , 6.  , 4.75, 5.75],\n",
       "        [4.25, 5.75, 5.  , 3.75]],\n",
       "\n",
       "       [[6.  , 4.75, 5.25, 5.25],\n",
       "        [5.25, 5.5 , 5.  , 5.25],\n",
       "        [6.  , 5.  , 5.25, 5.5 ],\n",
       "        [6.  , 4.75, 5.75, 5.75]]])"
      ]
     },
     "execution_count": 4,
     "metadata": {},
     "output_type": "execute_result"
    }
   ],
   "source": [
    "Avg_Pooling_3d_2(S)"
   ]
  },
  {
   "cell_type": "code",
   "execution_count": 6,
   "metadata": {},
   "outputs": [
    {
     "data": {
      "text/plain": [
       "array([[[3, 3, 4, 6, 4, 7, 8, 4],\n",
       "        [4, 4, 8, 6, 7, 6, 4, 4],\n",
       "        [6, 5, 6, 3, 4, 6, 8, 4],\n",
       "        [3, 6, 8, 4, 6, 6, 6, 6],\n",
       "        [5, 7, 3, 3, 8, 8, 5, 4],\n",
       "        [3, 4, 7, 3, 6, 4, 3, 7],\n",
       "        [7, 7, 8, 7, 7, 4, 3, 3],\n",
       "        [6, 3, 6, 6, 5, 6, 8, 6]],\n",
       "\n",
       "       [[3, 3, 6, 4, 8, 3, 4, 8],\n",
       "        [3, 5, 8, 4, 4, 7, 3, 8],\n",
       "        [6, 3, 6, 5, 4, 7, 7, 3],\n",
       "        [4, 5, 8, 7, 5, 3, 5, 7],\n",
       "        [6, 7, 5, 6, 4, 8, 5, 6],\n",
       "        [8, 4, 3, 4, 8, 7, 6, 8],\n",
       "        [4, 7, 6, 6, 8, 3, 5, 4],\n",
       "        [3, 7, 6, 7, 5, 3, 7, 8]],\n",
       "\n",
       "       [[5, 5, 7, 8, 4, 4, 7, 7],\n",
       "        [3, 5, 4, 7, 6, 6, 7, 7],\n",
       "        [7, 3, 3, 5, 7, 7, 6, 6],\n",
       "        [5, 5, 7, 5, 4, 8, 6, 6],\n",
       "        [4, 3, 7, 6, 6, 8, 4, 6],\n",
       "        [6, 5, 8, 4, 6, 4, 4, 8],\n",
       "        [7, 6, 4, 5, 8, 6, 4, 5],\n",
       "        [7, 4, 7, 8, 5, 3, 5, 5]]])"
      ]
     },
     "execution_count": 6,
     "metadata": {},
     "output_type": "execute_result"
    }
   ],
   "source": [
    "S"
   ]
  },
  {
   "cell_type": "code",
   "execution_count": 8,
   "metadata": {},
   "outputs": [],
   "source": [
    "# Min pooling(2,2) on a 3d tensor input.\n",
    "def min_pooling_3d_2(S:ndarray)->ndarray:\n",
    "    assert len(S.shape) == 3\n",
    "    assert S.shape[1]%2 == S.shape[2]%2 == 0\n",
    "    assert S.shape[1] == S.shape[2]\n",
    "    \n",
    "    Z = np.zeros([S.shape[0],int(S.shape[1]/2),int(S.shape[2]/2)])\n",
    "    \n",
    "    for w in range(Z.shape[0]):\n",
    "        for l in range(Z.shape[1]):\n",
    "            for u in range(Z.shape[2]):\n",
    "                Z[w,l,u] = min(S[w,2*l,2*u],S[w,2*l+1,2*u],S[w,2*l,2*u+1],S[w,2*l+1,2*u+1])\n",
    "                \n",
    "    return Z\n",
    "    \n",
    "    "
   ]
  },
  {
   "cell_type": "code",
   "execution_count": 9,
   "metadata": {},
   "outputs": [
    {
     "data": {
      "text/plain": [
       "array([[[3., 4., 4., 4.],\n",
       "        [3., 3., 4., 4.],\n",
       "        [3., 3., 4., 3.],\n",
       "        [3., 6., 4., 3.]],\n",
       "\n",
       "       [[3., 4., 3., 3.],\n",
       "        [3., 5., 3., 3.],\n",
       "        [4., 3., 4., 5.],\n",
       "        [3., 6., 3., 4.]],\n",
       "\n",
       "       [[3., 4., 4., 7.],\n",
       "        [3., 3., 4., 6.],\n",
       "        [3., 4., 4., 4.],\n",
       "        [4., 4., 3., 4.]]])"
      ]
     },
     "execution_count": 9,
     "metadata": {},
     "output_type": "execute_result"
    }
   ],
   "source": [
    "min_pooling_3d_2(S)"
   ]
  },
  {
   "cell_type": "code",
   "execution_count": 10,
   "metadata": {},
   "outputs": [],
   "source": [
    "# max pooling 3d\n",
    "def max_pooling_3d_2(S:ndarray)->ndarray:\n",
    "    assert len(S.shape) == 3\n",
    "    assert S.shape[1]%2 == S.shape[2]%2 == 0\n",
    "    assert S.shape[1] == S.shape[2]\n",
    "    \n",
    "    Z = np.zeros([S.shape[0],int(S.shape[1]/2),int(S.shape[2]/2)])\n",
    "    \n",
    "    for s in range(Z.shape[0]):\n",
    "        for k in range(Z.shape[1]):\n",
    "            for l in range(Z.shape[2]):\n",
    "                Z[s,k,l] = max(S[s,2*k,2*l],S[s,2*k,2*l+1],S[s,2*k+1,2*l],S[s,2*k+1,2*l+1])\n",
    "                \n",
    "    return Z"
   ]
  },
  {
   "cell_type": "code",
   "execution_count": 11,
   "metadata": {},
   "outputs": [
    {
     "data": {
      "text/plain": [
       "array([[[4., 8., 7., 8.],\n",
       "        [6., 8., 6., 8.],\n",
       "        [7., 7., 8., 7.],\n",
       "        [7., 8., 7., 8.]],\n",
       "\n",
       "       [[5., 8., 8., 8.],\n",
       "        [6., 8., 7., 7.],\n",
       "        [8., 6., 8., 8.],\n",
       "        [7., 7., 8., 8.]],\n",
       "\n",
       "       [[5., 8., 6., 7.],\n",
       "        [7., 7., 8., 6.],\n",
       "        [6., 8., 8., 8.],\n",
       "        [7., 8., 8., 5.]]])"
      ]
     },
     "execution_count": 11,
     "metadata": {},
     "output_type": "execute_result"
    }
   ],
   "source": [
    "max_pooling_3d_2(S)"
   ]
  },
  {
   "cell_type": "code",
   "execution_count": null,
   "metadata": {},
   "outputs": [],
   "source": []
  }
 ],
 "metadata": {
  "kernelspec": {
   "display_name": "Python 3",
   "language": "python",
   "name": "python3"
  },
  "language_info": {
   "codemirror_mode": {
    "name": "ipython",
    "version": 3
   },
   "file_extension": ".py",
   "mimetype": "text/x-python",
   "name": "python",
   "nbconvert_exporter": "python",
   "pygments_lexer": "ipython3",
   "version": "3.7.3"
  }
 },
 "nbformat": 4,
 "nbformat_minor": 2
}
